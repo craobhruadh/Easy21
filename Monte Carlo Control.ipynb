{
 "cells": [
  {
   "cell_type": "code",
   "execution_count": 1,
   "id": "06294b4a",
   "metadata": {},
   "outputs": [
    {
     "name": "stdout",
     "output_type": "stream",
     "text": [
      "Processing /Users/rcheung/Documents/ReinforcementLearning/Easy21\n",
      "\u001b[33m  DEPRECATION: A future pip version will change local packages to be built in-place without first copying to a temporary directory. We recommend you use --use-feature=in-tree-build to test your packages with this new behavior before it becomes the default.\n",
      "   pip 21.3 will remove support for this functionality. You can find discussion regarding this at https://github.com/pypa/pip/issues/7555.\u001b[0m\n",
      "Building wheels for collected packages: easy21\n",
      "  Building wheel for easy21 (setup.py) ... \u001b[?25ldone\n",
      "\u001b[?25h  Created wheel for easy21: filename=easy21-0.1-py3-none-any.whl size=1004 sha256=52af65909c847ad2070bfd2e92cec0cadecafe354c4d13abfcdc0f4a9c80350a\n",
      "  Stored in directory: /private/var/folders/3w/6q32t1s12pj2t55z6kkp1drr0000gn/T/pip-ephem-wheel-cache-2ulbcdd9/wheels/bf/e1/65/2750196a72b7e303fb63a6b4ae5735ff8aca76e928650d2976\n",
      "Successfully built easy21\n",
      "Installing collected packages: easy21\n",
      "  Attempting uninstall: easy21\n",
      "    Found existing installation: easy21 0.1\n",
      "    Uninstalling easy21-0.1:\n",
      "      Successfully uninstalled easy21-0.1\n",
      "Successfully installed easy21-0.1\n"
     ]
    }
   ],
   "source": [
    "!pip install --upgrade ."
   ]
  },
  {
   "cell_type": "code",
   "execution_count": 2,
   "id": "c64ac14f",
   "metadata": {},
   "outputs": [],
   "source": [
    "from environment.easy21 import Easy21\n",
    "\n",
    "import matplotlib.pyplot as plt\n",
    "import numpy as np\n",
    "from collections import Counter"
   ]
  },
  {
   "cell_type": "code",
   "execution_count": 3,
   "id": "e9446aeb",
   "metadata": {},
   "outputs": [],
   "source": [
    "game = Easy21()"
   ]
  },
  {
   "cell_type": "markdown",
   "id": "bcb115b2",
   "metadata": {},
   "source": [
    "$V(S_t) \\leftarrow V(S_t) + \\alpha (G_t - V(S_t))$\n",
    "\n",
    "- $G_t$ is the actual return\n",
    "- $V(S_t)$ is the return we expected to see\n"
   ]
  },
  {
   "cell_type": "code",
   "execution_count": 4,
   "id": "fd78629c",
   "metadata": {},
   "outputs": [],
   "source": [
    "state = game.get_state()"
   ]
  },
  {
   "cell_type": "code",
   "execution_count": 5,
   "id": "d271aa7f",
   "metadata": {
    "scrolled": false
   },
   "outputs": [],
   "source": [
    "N0 = 100\n",
    "n_iterations = 500000\n",
    "returns = {}\n",
    "state_visit_counter = Counter()\n",
    "state_action_counter = Counter()\n",
    "# represent it as a 10+1 by 21+1 element matrix\n",
    "# we'll have a dummy row of zeros\n",
    "possible_actions = ['stick', 'hit']\n",
    "\n",
    "for i in range(n_iterations):\n",
    "    if game.terminal:\n",
    "        game.setup_new_game()\n",
    "    state = game.get_state()\n",
    "    \n",
    "    state_visit_counter[state]+=1\n",
    "    epsilon = N0/(N0+state_visit_counter[state])\n",
    "\n",
    "    if state not in returns:\n",
    "        returns[state] = {'hit':0, 'stick':0}\n",
    "        \n",
    "    if np.random.rand() < epsilon:\n",
    "        action = np.random.choice(possible_actions)\n",
    "    else:\n",
    "        if returns[state]['hit'] > returns[state]['stick']:\n",
    "            action = 'hit'\n",
    "        elif returns[state]['hit'] < returns[state]['stick']:\n",
    "            action = 'stick'\n",
    "        else:\n",
    "            action = np.random.choice(possible_actions)\n",
    "    \n",
    "    reward = game.step(action)\n",
    "    \n",
    "    state_visit_counter[(action, state)] += 1\n",
    "    \n",
    "    alpha = 1.0/state_visit_counter[(action, state)]\n",
    "    returns[state][action] += (alpha*(reward - returns[state][action]))\n",
    "    \n",
    "\n"
   ]
  },
  {
   "cell_type": "code",
   "execution_count": 6,
   "id": "368fe087",
   "metadata": {},
   "outputs": [],
   "source": [
    "V_stick = np.zeros((22, 11))\n",
    "V_hit = np.zeros((22, 11))\n",
    "\n",
    "for key in returns:\n",
    "    V_hit[key[0], key[1]] = returns[key]['hit']    \n",
    "    V_stick[key[0], key[1]] = returns[key]['stick']"
   ]
  },
  {
   "cell_type": "markdown",
   "id": "6c03646a",
   "metadata": {},
   "source": [
    "I recorded them separately - "
   ]
  },
  {
   "cell_type": "code",
   "execution_count": 7,
   "id": "a654b6e8",
   "metadata": {
    "scrolled": false
   },
   "outputs": [
    {
     "data": {
      "text/plain": [
       "<matplotlib.colorbar.Colorbar at 0x7fd977df2a60>"
      ]
     },
     "execution_count": 7,
     "metadata": {},
     "output_type": "execute_result"
    },
    {
     "data": {
      "image/png": "[encoded data removed]",
      "text/plain": [
       "<Figure size 720x360 with 4 Axes>"
      ]
     },
     "metadata": {
      "needs_background": "light"
     },
     "output_type": "display_data"
    }
   ],
   "source": [
    "plt.figure(figsize=(10,5))\n",
    "plt.subplot(121)\n",
    "plt.imshow(V_hit)\n",
    "plt.colorbar()\n",
    "\n",
    "plt.subplot(122)\n",
    "plt.imshow(V_stick)\n",
    "plt.colorbar()"
   ]
  },
  {
   "cell_type": "code",
   "execution_count": null,
   "id": "d64cc8c3",
   "metadata": {},
   "outputs": [],
   "source": []
  }
 ],
 "metadata": {
  "kernelspec": {
   "display_name": "Python 3 (ipykernel)",
   "language": "python",
   "name": "python3"
  },
  "language_info": {
   "codemirror_mode": {
    "name": "ipython",
    "version": 3
   },
   "file_extension": ".py",
   "mimetype": "text/x-python",
   "name": "python",
   "nbconvert_exporter": "python",
   "pygments_lexer": "ipython3",
   "version": "3.9.7"
  }
 },
 "nbformat": 4,
 "nbformat_minor": 5
}
