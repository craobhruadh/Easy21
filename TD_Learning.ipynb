{
 "cells": [
  {
   "cell_type": "code",
   "execution_count": 1,
   "id": "a05737da",
   "metadata": {},
   "outputs": [
    {
     "name": "stdout",
     "output_type": "stream",
     "text": [
      "Processing /Users/rcheung/Documents/ReinforcementLearning/Easy21\n",
      "\u001b[33m  DEPRECATION: A future pip version will change local packages to be built in-place without first copying to a temporary directory. We recommend you use --use-feature=in-tree-build to test your packages with this new behavior before it becomes the default.\n",
      "   pip 21.3 will remove support for this functionality. You can find discussion regarding this at https://github.com/pypa/pip/issues/7555.\u001b[0m\n",
      "Building wheels for collected packages: easy21\n",
      "  Building wheel for easy21 (setup.py) ... \u001b[?25ldone\n",
      "\u001b[?25h  Created wheel for easy21: filename=easy21-0.1-py3-none-any.whl size=3123 sha256=a9aace6e42c850364edbc92c31dd114cfe8ddfab8d454713ada1b6ff72755af3\n",
      "  Stored in directory: /private/var/folders/3w/6q32t1s12pj2t55z6kkp1drr0000gn/T/pip-ephem-wheel-cache-h97s087s/wheels/bf/e1/65/2750196a72b7e303fb63a6b4ae5735ff8aca76e928650d2976\n",
      "Successfully built easy21\n",
      "Installing collected packages: easy21\n",
      "  Attempting uninstall: easy21\n",
      "    Found existing installation: easy21 0.1\n",
      "    Uninstalling easy21-0.1:\n",
      "      Successfully uninstalled easy21-0.1\n",
      "Successfully installed easy21-0.1\n"
     ]
    }
   ],
   "source": [
    "!pip install --upgrade ."
   ]
  },
  {
   "cell_type": "code",
   "execution_count": 2,
   "id": "93946eb7",
   "metadata": {},
   "outputs": [],
   "source": [
    "from environment.easy21 import Easy21\n",
    "from models.TD_learning import TDLearning\n",
    "import matplotlib.pyplot as plt\n",
    "import numpy as np\n",
    "from collections import Counter\n",
    "import time"
   ]
  },
  {
   "cell_type": "code",
   "execution_count": 3,
   "id": "a587d4a2",
   "metadata": {},
   "outputs": [],
   "source": [
    "game = Easy21()"
   ]
  },
  {
   "cell_type": "markdown",
   "id": "e9e27642",
   "metadata": {},
   "source": [
    "TD learning:\n",
    "\n",
    "$Q(S, A) \\leftarrow Q(S, A) + \\alpha (R - \\gamma Q(S', A') - Q(S, A))$\n",
    "\n",
    "\n",
    "Sarsa:\n",
    "\n",
    "$Q(S, A) \\leftarrow Q(S, A) + \\alpha (q_t^\\lambda(S', A') - Q(S, A))$\n",
    "\n",
    "where \n",
    "\n",
    "$q_t^\\lambda = (1-\\lambda) \\sum_{n=1}^{\\infty} \\lambda^{n-1}q_t^{(n)}$\n",
    "\n"
   ]
  },
  {
   "cell_type": "code",
   "execution_count": 4,
   "id": "53e3d17f",
   "metadata": {
    "scrolled": false
   },
   "outputs": [
    {
     "name": "stdout",
     "output_type": "stream",
     "text": [
      "Elapse Time: 39.6938271522522\n"
     ]
    }
   ],
   "source": [
    "N0 = 100\n",
    "n_iterations = 1000000\n",
    "\n",
    "t = time.time()\n",
    "\n",
    "td_learning = TDLearning(N0=N0)\n",
    "td_learning.train(n_episodes=n_iterations)\n",
    "\n",
    "print(f'Elapse Time: {time.time()-t}')"
   ]
  },
  {
   "cell_type": "code",
   "execution_count": 5,
   "id": "78e0699e",
   "metadata": {},
   "outputs": [
    {
     "data": {
      "text/plain": [
       "Text(0, 0.5, 'Player sum')"
      ]
     },
     "execution_count": 5,
     "metadata": {},
     "output_type": "execute_result"
    },
    {
     "data": {
      "image/png": "[encoded data removed]",
      "text/plain": [
       "<Figure size 720x360 with 4 Axes>"
      ]
     },
     "metadata": {
      "needs_background": "light"
     },
     "output_type": "display_data"
    }
   ],
   "source": [
    "plt.figure(figsize=(10,5))\n",
    "plt.subplot(121)\n",
    "plt.imshow(td_learning.value['hit'])\n",
    "plt.colorbar()\n",
    "plt.title('Value function for hitting')\n",
    "plt.xlabel('Dealer sum')\n",
    "plt.ylabel('Player sum')\n",
    "\n",
    "plt.subplot(122)\n",
    "plt.imshow(td_learning.value['stick'])\n",
    "plt.colorbar()\n",
    "plt.title('Value function for sticking')\n",
    "plt.xlabel('Dealer sum')\n",
    "plt.ylabel('Player sum')\n"
   ]
  },
  {
   "cell_type": "code",
   "execution_count": null,
   "id": "937652b8",
   "metadata": {},
   "outputs": [],
   "source": []
  }
 ],
 "metadata": {
  "kernelspec": {
   "display_name": "Python 3 (ipykernel)",
   "language": "python",
   "name": "python3"
  },
  "language_info": {
   "codemirror_mode": {
    "name": "ipython",
    "version": 3
   },
   "file_extension": ".py",
   "mimetype": "text/x-python",
   "name": "python",
   "nbconvert_exporter": "python",
   "pygments_lexer": "ipython3",
   "version": "3.9.7"
  }
 },
 "nbformat": 4,
 "nbformat_minor": 5
}
