{
 "cells": [
  {
   "cell_type": "code",
   "execution_count": 22,
   "id": "d43abb8f",
   "metadata": {},
   "outputs": [
    {
     "name": "stdout",
     "output_type": "stream",
     "text": [
      "Processing /Users/rcheung/Documents/ReinforcementLearning/Easy21\n",
      "\u001b[33m  DEPRECATION: A future pip version will change local packages to be built in-place without first copying to a temporary directory. We recommend you use --use-feature=in-tree-build to test your packages with this new behavior before it becomes the default.\n",
      "   pip 21.3 will remove support for this functionality. You can find discussion regarding this at https://github.com/pypa/pip/issues/7555.\u001b[0m\n",
      "Building wheels for collected packages: easy21\n",
      "  Building wheel for easy21 (setup.py) ... \u001b[?25ldone\n",
      "\u001b[?25h  Created wheel for easy21: filename=easy21-0.1-py3-none-any.whl size=1004 sha256=875a8c70e4f2b9d0c1d264538c303b9969f8a3494a6ecdd144c74c6fabe3bbcf\n",
      "  Stored in directory: /private/var/folders/3w/6q32t1s12pj2t55z6kkp1drr0000gn/T/pip-ephem-wheel-cache-40rj910x/wheels/bf/e1/65/2750196a72b7e303fb63a6b4ae5735ff8aca76e928650d2976\n",
      "Successfully built easy21\n",
      "Installing collected packages: easy21\n",
      "  Attempting uninstall: easy21\n",
      "    Found existing installation: easy21 0.1\n",
      "    Uninstalling easy21-0.1:\n",
      "      Successfully uninstalled easy21-0.1\n",
      "Successfully installed easy21-0.1\n"
     ]
    }
   ],
   "source": [
    "!pip install --upgrade ."
   ]
  },
  {
   "cell_type": "code",
   "execution_count": 2,
   "id": "2bbb2b7b",
   "metadata": {},
   "outputs": [],
   "source": [
    "from environment.easy21 import Easy21\n",
    "import numpy as np"
   ]
  },
  {
   "cell_type": "code",
   "execution_count": 3,
   "id": "85c09438",
   "metadata": {},
   "outputs": [],
   "source": [
    "game = Easy21()\n"
   ]
  },
  {
   "cell_type": "code",
   "execution_count": 4,
   "id": "db0cfd7f",
   "metadata": {},
   "outputs": [
    {
     "name": "stdout",
     "output_type": "stream",
     "text": [
      "Card(value=7, color='black')\n",
      "Card(value=10, color='black')\n",
      "Card(value=6, color='red')\n",
      "Card(value=7, color='red')\n",
      "Card(value=7, color='black')\n",
      "Card(value=6, color='red')\n",
      "Card(value=4, color='black')\n",
      "Card(value=2, color='black')\n",
      "Card(value=9, color='black')\n",
      "Card(value=1, color='red')\n",
      "Card(value=8, color='black')\n",
      "Card(value=9, color='black')\n",
      "Card(value=1, color='red')\n",
      "Card(value=6, color='black')\n",
      "Card(value=2, color='red')\n",
      "Card(value=3, color='black')\n",
      "Card(value=2, color='red')\n",
      "Card(value=9, color='black')\n",
      "Card(value=8, color='black')\n",
      "Card(value=5, color='red')\n",
      "Counter({'black': 12, 'red': 8})\n"
     ]
    }
   ],
   "source": [
    "from collections import Counter\n",
    "c = Counter()\n",
    "for i in range(20):\n",
    "    card = game.draw_card()\n",
    "    c[card.color]+=1\n",
    "    print(card)\n",
    "print(c)\n",
    "      "
   ]
  },
  {
   "cell_type": "code",
   "execution_count": 5,
   "id": "f08c3e93",
   "metadata": {},
   "outputs": [
    {
     "data": {
      "text/plain": [
       "(8, 3)"
      ]
     },
     "execution_count": 5,
     "metadata": {},
     "output_type": "execute_result"
    }
   ],
   "source": [
    "game.players_sum, game.dealers_sum"
   ]
  },
  {
   "cell_type": "code",
   "execution_count": 6,
   "id": "f9688e95",
   "metadata": {},
   "outputs": [
    {
     "name": "stdout",
     "output_type": "stream",
     "text": [
      "Player drew black 7. \n",
      "   Current score: 15 versus 3\n"
     ]
    },
    {
     "data": {
      "text/plain": [
       "0"
      ]
     },
     "execution_count": 6,
     "metadata": {},
     "output_type": "execute_result"
    }
   ],
   "source": [
    "game.step('hit', verbose=True)\n"
   ]
  },
  {
   "cell_type": "code",
   "execution_count": 7,
   "id": "72237fdd",
   "metadata": {},
   "outputs": [
    {
     "name": "stdout",
     "output_type": "stream",
     "text": [
      "Player drew black 10. \n",
      "   Current score: 25 versus 3\n",
      "Player goes bust with a score of 25\n"
     ]
    },
    {
     "data": {
      "text/plain": [
       "-1"
      ]
     },
     "execution_count": 7,
     "metadata": {},
     "output_type": "execute_result"
    }
   ],
   "source": [
    "game.step('hit', verbose=True)\n"
   ]
  },
  {
   "cell_type": "code",
   "execution_count": 8,
   "id": "08c636e3",
   "metadata": {},
   "outputs": [
    {
     "name": "stdout",
     "output_type": "stream",
     "text": [
      "Game has stopped.  Reset board with .setup_new_game() method\n"
     ]
    }
   ],
   "source": [
    "game.step('hit', verbose=True)\n"
   ]
  },
  {
   "cell_type": "code",
   "execution_count": 9,
   "id": "d1b6cfee",
   "metadata": {},
   "outputs": [
    {
     "name": "stdout",
     "output_type": "stream",
     "text": [
      "Game has stopped.  Reset board with .setup_new_game() method\n"
     ]
    }
   ],
   "source": [
    "game.step('hit', verbose=True)\n"
   ]
  },
  {
   "cell_type": "code",
   "execution_count": 10,
   "id": "b7e04a59",
   "metadata": {},
   "outputs": [],
   "source": [
    "game.setup_new_game()"
   ]
  },
  {
   "cell_type": "code",
   "execution_count": 11,
   "id": "d804e5dc",
   "metadata": {},
   "outputs": [
    {
     "name": "stdout",
     "output_type": "stream",
     "text": [
      "State name not recognized.  Either 'hit' to draw a card or 'stick' to stop drawing\n"
     ]
    },
    {
     "data": {
      "text/plain": [
       "0"
      ]
     },
     "execution_count": 11,
     "metadata": {},
     "output_type": "execute_result"
    }
   ],
   "source": [
    "game.step('s', verbose=True)\n"
   ]
  },
  {
   "cell_type": "code",
   "execution_count": 12,
   "id": "bf542efd",
   "metadata": {},
   "outputs": [
    {
     "name": "stdout",
     "output_type": "stream",
     "text": [
      "Player drew red 7. \n",
      "   Current score: 0 versus 6\n",
      "Player goes bust with a score of 0\n"
     ]
    },
    {
     "data": {
      "text/plain": [
       "-1"
      ]
     },
     "execution_count": 12,
     "metadata": {},
     "output_type": "execute_result"
    }
   ],
   "source": [
    "game.step('hit', verbose=True)\n"
   ]
  },
  {
   "cell_type": "code",
   "execution_count": 14,
   "id": "f93d300b",
   "metadata": {},
   "outputs": [],
   "source": [
    "game.setup_new_game()"
   ]
  },
  {
   "cell_type": "code",
   "execution_count": 15,
   "id": "32c365d2",
   "metadata": {},
   "outputs": [
    {
     "name": "stdout",
     "output_type": "stream",
     "text": [
      "Player drew black 2. \n",
      "   Current score: 7 versus 9\n"
     ]
    },
    {
     "data": {
      "text/plain": [
       "0"
      ]
     },
     "execution_count": 15,
     "metadata": {},
     "output_type": "execute_result"
    }
   ],
   "source": [
    "game.step('hit', verbose=True)\n"
   ]
  },
  {
   "cell_type": "code",
   "execution_count": 16,
   "id": "9d2930cb",
   "metadata": {},
   "outputs": [
    {
     "name": "stdout",
     "output_type": "stream",
     "text": [
      "Player drew red 4. \n",
      "   Current score: 3 versus 9\n"
     ]
    },
    {
     "data": {
      "text/plain": [
       "0"
      ]
     },
     "execution_count": 16,
     "metadata": {},
     "output_type": "execute_result"
    }
   ],
   "source": [
    "game.step('hit', verbose=True)\n"
   ]
  },
  {
   "cell_type": "code",
   "execution_count": 17,
   "id": "1f09f1c5",
   "metadata": {},
   "outputs": [
    {
     "name": "stdout",
     "output_type": "stream",
     "text": [
      "Player drew black 8. \n",
      "   Current score: 11 versus 9\n"
     ]
    },
    {
     "data": {
      "text/plain": [
       "0"
      ]
     },
     "execution_count": 17,
     "metadata": {},
     "output_type": "execute_result"
    }
   ],
   "source": [
    "game.step('hit', verbose=True)\n"
   ]
  },
  {
   "cell_type": "code",
   "execution_count": 18,
   "id": "e90d6b1e",
   "metadata": {},
   "outputs": [
    {
     "name": "stdout",
     "output_type": "stream",
     "text": [
      "Player drew red 6. \n",
      "   Current score: 5 versus 9\n"
     ]
    },
    {
     "data": {
      "text/plain": [
       "0"
      ]
     },
     "execution_count": 18,
     "metadata": {},
     "output_type": "execute_result"
    }
   ],
   "source": [
    "game.step('hit', verbose=True)\n"
   ]
  },
  {
   "cell_type": "code",
   "execution_count": 19,
   "id": "b60a27d8",
   "metadata": {},
   "outputs": [
    {
     "name": "stdout",
     "output_type": "stream",
     "text": [
      "Player drew black 10. \n",
      "   Current score: 15 versus 9\n"
     ]
    },
    {
     "data": {
      "text/plain": [
       "0"
      ]
     },
     "execution_count": 19,
     "metadata": {},
     "output_type": "execute_result"
    }
   ],
   "source": [
    "game.step('hit', verbose=True)\n"
   ]
  },
  {
   "cell_type": "code",
   "execution_count": 20,
   "id": "a625da80",
   "metadata": {},
   "outputs": [
    {
     "name": "stdout",
     "output_type": "stream",
     "text": [
      "Dealer drew red 4. \n",
      "   Current score: 15 versus 5\n",
      "Dealer drew black 4. \n",
      "   Current score: 15 versus 9\n",
      "Dealer drew black 7. \n",
      "   Current score: 15 versus 16\n",
      "Dealer drew red 1. \n",
      "   Current score: 15 versus 15\n",
      "Dealer drew red 7. \n",
      "   Current score: 15 versus 8\n",
      "Dealer drew black 5. \n",
      "   Current score: 15 versus 13\n",
      "Dealer drew red 9. \n",
      "   Current score: 15 versus 4\n",
      "Dealer drew red 6. \n",
      "   Current score: 15 versus -2\n",
      "Dealer goes bust with a score of -2\n"
     ]
    },
    {
     "data": {
      "text/plain": [
       "1"
      ]
     },
     "execution_count": 20,
     "metadata": {},
     "output_type": "execute_result"
    }
   ],
   "source": [
    "game.step('stick', verbose=True)\n"
   ]
  },
  {
   "cell_type": "code",
   "execution_count": 21,
   "id": "377e5337",
   "metadata": {},
   "outputs": [
    {
     "name": "stdout",
     "output_type": "stream",
     "text": [
      "Game has stopped.  Reset board with .setup_new_game() method\n"
     ]
    }
   ],
   "source": [
    "game.step('hit', verbose=True)\n"
   ]
  },
  {
   "cell_type": "code",
   "execution_count": null,
   "id": "789e10da",
   "metadata": {},
   "outputs": [],
   "source": []
  }
 ],
 "metadata": {
  "kernelspec": {
   "display_name": "Python 3 (ipykernel)",
   "language": "python",
   "name": "python3"
  },
  "language_info": {
   "codemirror_mode": {
    "name": "ipython",
    "version": 3
   },
   "file_extension": ".py",
   "mimetype": "text/x-python",
   "name": "python",
   "nbconvert_exporter": "python",
   "pygments_lexer": "ipython3",
   "version": "3.9.7"
  }
 },
 "nbformat": 4,
 "nbformat_minor": 5
}
